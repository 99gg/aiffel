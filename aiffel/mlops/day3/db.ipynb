{
 "cells": [
  {
   "cell_type": "code",
   "execution_count": 7,
   "metadata": {},
   "outputs": [],
   "source": [
    "# !pip install pymysql\n",
    "\n",
    "import pymysql\n",
    "\n",
    "\n",
    "conn = pymysql.connect(\n",
    "    host=\"127.0.0.1\",\n",
    "    port=3306,\n",
    "    user=\"root\",\n",
    "    password=\"1234\",\n",
    "    db=\"modu_test\",\n",
    "    charset=\"utf8\",\n",
    ")\n",
    "cur = conn.cursor()\n",
    "\n",
    "# tbl_users 테이블 생성 SQL 문\n",
    "create_table_sql = \"\"\"\n",
    "CREATE TABLE IF NOT EXISTS tbl_users (\n",
    "    idx INT AUTO_INCREMENT PRIMARY KEY,\n",
    "    user_name VARCHAR(50) NOT NULL,\n",
    "    phone VARCHAR(20) NOT NULL\n",
    ")\n",
    "\"\"\"\n",
    "cur.execute(create_table_sql)\n",
    "conn.commit()\n",
    "\n",
    "\n",
    "insert_data_sql = \"\"\"\n",
    "INSERT INTO tbl_users (user_name, phone) VALUES \n",
    "('아이유', '1111'),\n",
    "('홍길도', '2222')\n",
    "\"\"\"\n",
    "cur.execute(insert_data_sql)\n",
    "conn.commit()\n"
   ]
  },
  {
   "cell_type": "code",
   "execution_count": 11,
   "metadata": {},
   "outputs": [
    {
     "name": "stdout",
     "output_type": "stream",
     "text": [
      "(1, '아이유', '1111')\n",
      "(2, '홍길도', '2222')\n",
      "(3, '아이유', '1111')\n",
      "(4, '홍길도', '2222')\n",
      "(5, '아이유', '1111')\n",
      "(6, '홍길도', '2222')\n"
     ]
    }
   ],
   "source": [
    "# 데이터 조회\n",
    "sql = \"select * from `tbl_users`\"\n",
    "cur.execute(sql)\n",
    "rows = cur.fetchall()\n",
    "\n",
    "\n",
    "# 결과 출력\n",
    "for row in rows:\n",
    "    print(row)\n"
   ]
  },
  {
   "cell_type": "code",
   "execution_count": 12,
   "metadata": {},
   "outputs": [
    {
     "name": "stdout",
     "output_type": "stream",
     "text": [
      "   idx user_name phone\n",
      "0    1       아이유  1111\n",
      "1    2       홍길도  2222\n",
      "2    3       아이유  1111\n",
      "3    4       홍길도  2222\n",
      "4    5       아이유  1111\n",
      "5    6       홍길도  2222\n"
     ]
    }
   ],
   "source": [
    "# extract columns\n",
    "\n",
    "import pandas as pd\n",
    "\n",
    "df = pd.DataFrame(rows)\n",
    "df.columns = [desc[0] for desc in cur.description]\n",
    "print(df)\n",
    "\n",
    "# to csv\n",
    "df.to_csv(\"./tbl_users.csv\", index=False)\n"
   ]
  },
  {
   "cell_type": "code",
   "execution_count": null,
   "metadata": {},
   "outputs": [],
   "source": []
  }
 ],
 "metadata": {
  "kernelspec": {
   "display_name": ".venv",
   "language": "python",
   "name": "python3"
  },
  "language_info": {
   "codemirror_mode": {
    "name": "ipython",
    "version": 3
   },
   "file_extension": ".py",
   "mimetype": "text/x-python",
   "name": "python",
   "nbconvert_exporter": "python",
   "pygments_lexer": "ipython3",
   "version": "3.10.11"
  }
 },
 "nbformat": 4,
 "nbformat_minor": 2
}
