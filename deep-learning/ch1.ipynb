{
 "cells": [
  {
   "cell_type": "code",
   "execution_count": 9,
   "metadata": {},
   "outputs": [
    {
     "data": {
      "text/plain": [
       "array([1, 1, 1, 1, 1, 1, 1, 1, 1, 1, 1, 1, 1, 1, 1, 1, 1, 1, 1, 1, 1, 1,\n",
       "       1, 1, 1, 1, 1, 1, 1, 1, 1, 1, 1, 1, 1, 1, 1, 1, 1, 1, 1, 1, 1, 1,\n",
       "       1, 1, 1, 1, 1, 1, 0, 0, 0, 0, 0, 0, 0, 0, 0, 0, 0, 0, 0, 0, 0, 0,\n",
       "       0, 0, 0, 0, 0, 0, 0, 0, 0, 0, 0, 0, 0, 0, 0, 0, 0, 0, 0, 0, 0, 0,\n",
       "       0, 0, 0, 0, 0, 0, 0, 0, 0, 0, 0, 0, 0, 0, 0, 0, 0, 0, 0, 0, 0, 0,\n",
       "       0, 0, 0, 0, 0, 0, 0, 0, 0, 0, 0, 0, 0, 0, 0, 0, 0, 0, 0, 0, 0, 0,\n",
       "       0, 0, 0, 0, 0, 0, 0, 0, 0, 0, 0, 0, 0, 0, 0, 0, 0, 0])"
      ]
     },
     "execution_count": 9,
     "metadata": {},
     "output_type": "execute_result"
    }
   ],
   "source": [
    "import matplotlib.pyplot as plt\n",
    "import numpy as np\n",
    "import pandas as pd\n",
    "from sklearn.datasets import load_iris\n",
    "\n",
    "\n",
    "def prepare_data(target):\n",
    "    iris = load_iris()\n",
    "    x_train = iris.data[:, 2:]\n",
    "    labels = iris.target_names\n",
    "    y = iris.target\n",
    "    y_train = []\n",
    "    for i in range(150):\n",
    "        y_train.append(labels[y[i]] == target)\n",
    "    y_train = np.array(y_train, dtype=int)\n",
    "    return x_train, y_train, [\"(1) \" + target, \"(0) not \" + target]\n",
    "\n",
    "\n",
    "\n",
    "# step function\n",
    "def step(x):\n",
    "    return 1 * (x > 0)\n",
    "\n",
    "\n",
    "class Perceptron:\n",
    "    def __init__(self, dim, activation):\n",
    "        rnd = np.random.default_rng()\n",
    "        self.dim = dim\n",
    "        self.activation = activation\n",
    "\n",
    "        self.w = rnd.normal(scale=np.sqrt(2.0 / dim), size=dim)\n",
    "        self.b = rnd.normal(scale=np.sqrt(2.0 / dim), size=1)\n",
    "\n",
    "    def printW(self):\n",
    "        for i in range(self.dim):\n",
    "            print(\"  w{} = {:6.3f}\".format(i + 1, self.w[i]), end=\"\")\n",
    "            print(\"  b = {:6.3f}\".format(self.b))\n",
    "\n",
    "    def predict(self, x):\n",
    "        # return self.activation(np.dot(x, self.w) + self.b)\n",
    "        return np.array(\n",
    "            [self.activation(np.dot(x[i], self.w) + self.b) for i in range(len(x))]\n",
    "        )\n",
    "\n",
    "    def fit(self, X, y, N, epochs, eta):\n",
    "        # shuffle\n",
    "        idx = list(range(N))\n",
    "        np.random.shuffle(idx)\n",
    "        X = np.array([X[i] for i in idx])\n",
    "        y = np.array([y[i] for i in idx])\n",
    "\n",
    "        f = \"Epochs = {:4d}  Loss = {:8.5f}\"\n",
    "        print(\"initial value of w  \", end=\"\")\n",
    "        self.printW()\n",
    "\n",
    "        for j in range(epochs):\n",
    "            for i in range(N):\n",
    "                delta = self.predict(X[i])[0] - y[i]\n",
    "                self.w = self.w - eta * delta * X[i]\n",
    "                self.b = self.b - eta * delta\n",
    "            # 학습과정 출력\n",
    "            if j < 10 or (j + 1) / 100 == 0:\n",
    "                loss = self.predict(X) - y\n",
    "                loss = (loss * loss).sum() / N\n",
    "                print(f.format(j + 1, loss), end=\"\")\n",
    "                self.printW()\n",
    "                \n",
    "                \n",
    "nSamples = 150\n",
    "nDim = 2\n",
    "target = 'setosa'\n",
    "x_train, y_train, labels = prepare_data(target)\n",
    "\n",
    "x_train\n",
    "y_train\n"
   ]
  }
 ],
 "metadata": {
  "kernelspec": {
   "display_name": "Python 3",
   "language": "python",
   "name": "python3"
  },
  "language_info": {
   "codemirror_mode": {
    "name": "ipython",
    "version": 3
   },
   "file_extension": ".py",
   "mimetype": "text/x-python",
   "name": "python",
   "nbconvert_exporter": "python",
   "pygments_lexer": "ipython3",
   "version": "3.10.11"
  }
 },
 "nbformat": 4,
 "nbformat_minor": 2
}
