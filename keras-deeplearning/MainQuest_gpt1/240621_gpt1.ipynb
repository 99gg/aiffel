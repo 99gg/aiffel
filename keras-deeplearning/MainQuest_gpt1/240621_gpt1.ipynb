{
 "cells": [
  {
   "cell_type": "markdown",
   "metadata": {},
   "source": [
    "# Main Quest\n",
    "## GPT 1 구현\n",
    "평가기준\n",
    "1. transformer와 비교해 변경이 필요한 부분을 서술하였다.\n",
    "2. 모델의 입력형태에 맞게 전처리를 수행하였다.\n",
    "  - decoder 기반의 생성모델임을 감안하여 챗봇데이터를 변형합니다.\n",
    "3. 모델의 입력블럭을 GPT 논문에 기반하여 수정하였다.\n",
    "  - 모델의 input이 정상적으로 구성되었는지 확인합니다.\n",
    "4. GPT 모델을 정상적으로 구성하였다.(model.summary, model.fit 결과 캡쳐)\n",
    "  - 노드의 transformer 코드를 수정하여 gpt1 모델을 구성합니다.\n",
    "5. 입력에 따른 출력이 생성되었다.\n",
    "  - 출력결과물의 수준에 상관없이 모델이 정상적으로 동작하는지 확인합니다."
   ]
  },
  {
   "cell_type": "code",
   "execution_count": null,
   "metadata": {},
   "outputs": [],
   "source": [
    "MainQuest\n"
   ]
  }
 ],
 "metadata": {
  "language_info": {
   "name": "python"
  }
 },
 "nbformat": 4,
 "nbformat_minor": 2
}
